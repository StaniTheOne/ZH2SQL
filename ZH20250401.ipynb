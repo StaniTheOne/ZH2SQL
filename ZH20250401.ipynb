{
    "metadata": {
        "kernelspec": {
            "name": "SQL",
            "display_name": "SQL",
            "language": "sql"
        },
        "language_info": {
            "name": "sql",
            "version": ""
        }
    },
    "nbformat_minor": 2,
    "nbformat": 4,
    "cells": [
        {
            "cell_type": "code",
            "source": [
                "SELECT SZALLAS_ID, SZALLAS_NEV, csillagok_szama,\r\n",
                "        IIF(CSILLAGOK_SZAMA >= 3, 'Igen', 'Nem') AS 'Legalább 3 csillagos_e'\r\n",
                "FROM Szallashely\r\n",
                "WHERE SZALLAS_ID NOT IN (SELECT SZALLAS_FK FROM Szoba WHERE FEROHELY = 3)"
            ],
            "metadata": {
                "azdata_cell_guid": "101f344b-0598-4290-8584-0af89634c53c",
                "language": "sql",
                "tags": []
            },
            "outputs": [
                {
                    "output_type": "display_data",
                    "data": {
                        "text/html": "(2 rows affected)"
                    },
                    "metadata": {}
                },
                {
                    "output_type": "display_data",
                    "data": {
                        "text/html": "Total execution time: 00:00:00.004"
                    },
                    "metadata": {}
                },
                {
                    "output_type": "execute_result",
                    "metadata": {},
                    "execution_count": 7,
                    "data": {
                        "application/vnd.dataresource+json": {
                            "schema": {
                                "fields": [
                                    {
                                        "name": "SZALLAS_ID"
                                    },
                                    {
                                        "name": "SZALLAS_NEV"
                                    },
                                    {
                                        "name": "csillagok_szama"
                                    },
                                    {
                                        "name": "Legalább 3 csillagos_e"
                                    }
                                ]
                            },
                            "data": [
                                {
                                    "SZALLAS_ID": "19",
                                    "SZALLAS_NEV": "Nyárfás Vendégház",
                                    "csillagok_szama": "0",
                                    "Legalább 3 csillagos_e": "Nem"
                                },
                                {
                                    "SZALLAS_ID": "21",
                                    "SZALLAS_NEV": "Müller Vendégház",
                                    "csillagok_szama": "0",
                                    "Legalább 3 csillagos_e": "Nem"
                                }
                            ]
                        },
                        "text/html": [
                            "<table>",
                            "<tr><th>SZALLAS_ID</th><th>SZALLAS_NEV</th><th>csillagok_szama</th><th>Legalább 3 csillagos_e</th></tr>",
                            "<tr><td>19</td><td>Nyárfás Vendégház</td><td>0</td><td>Nem</td></tr>",
                            "<tr><td>21</td><td>Müller Vendégház</td><td>0</td><td>Nem</td></tr>",
                            "</table>"
                        ]
                    }
                }
            ],
            "execution_count": 7
        },
        {
            "cell_type": "code",
            "source": [
                "SELECT sz.SZOBA_ID,\r\n",
                "       sz.FEROHELY AS 'Férőhely',\r\n",
                "       COUNT(f.FOGLALAS_PK) AS 'Foglalások száma',\r\n",
                "       ROW_NUMBER() OVER (ORDER BY COUNT(f.FOGLALAS_PK) DESC, sz.FEROHELY ASC) AS Helyezes\r\n",
                "FROM Szoba sz\r\n",
                "INNER JOIN Foglalas f ON  sz.SZOBA_ID = f.SZOBA_FK\r\n",
                "GROUP BY sz.SZOBA_ID, sz.FEROHELY\r\n",
                "ORDER BY Helyezes"
            ],
            "metadata": {
                "language": "sql",
                "azdata_cell_guid": "a41cc60c-f78b-43d4-9245-43e601f17f38"
            },
            "outputs": [
                {
                    "output_type": "display_data",
                    "data": {
                        "text/html": "(197 rows affected)"
                    },
                    "metadata": {}
                },
                {
                    "output_type": "display_data",
                    "data": {
                        "text/html": "Total execution time: 00:00:00.015"
                    },
                    "metadata": {}
                },
                {
                    "output_type": "execute_result",
                    "metadata": {},
                    "execution_count": 12,
                    "data": {
                        "application/vnd.dataresource+json": {
                            "schema": {
                                "fields": [
                                    {
                                        "name": "SZOBA_ID"
                                    },
                                    {
                                        "name": "Férőhely"
                                    },
                                    {
                                        "name": "Foglalások száma"
                                    },
                                    {
                                        "name": "Helyezes"
                                    }
                                ]
                            },
                            "data": [
                                {
                                    "SZOBA_ID": "58",
                                    "Férőhely": "2",
                                    "Foglalások száma": "13",
                                    "Helyezes": "1"
                                },
                                {
                                    "SZOBA_ID": "182",
                                    "Férőhely": "2",
                                    "Foglalások száma": "12",
                                    "Helyezes": "2"
                                },
                                {
                                    "SZOBA_ID": "185",
                                    "Férőhely": "3",
                                    "Foglalások száma": "12",
                                    "Helyezes": "3"
                                },
                                {
                                    "SZOBA_ID": "70",
                                    "Férőhely": "2",
                                    "Foglalások száma": "11",
                                    "Helyezes": "4"
                                },
                                {
                                    "SZOBA_ID": "94",
                                    "Férőhely": "2",
                                    "Foglalások száma": "10",
                                    "Helyezes": "5"
                                },
                                {
                                    "SZOBA_ID": "12",
                                    "Férőhely": "2",
                                    "Foglalások száma": "9",
                                    "Helyezes": "6"
                                },
                                {
                                    "SZOBA_ID": "172",
                                    "Férőhely": "2",
                                    "Foglalások száma": "9",
                                    "Helyezes": "7"
                                },
                                {
                                    "SZOBA_ID": "35",
                                    "Férőhely": "3",
                                    "Foglalások száma": "9",
                                    "Helyezes": "8"
                                },
                                {
                                    "SZOBA_ID": "48",
                                    "Férőhely": "3",
                                    "Foglalások száma": "9",
                                    "Helyezes": "9"
                                },
                                {
                                    "SZOBA_ID": "74",
                                    "Férőhely": "3",
                                    "Foglalások száma": "9",
                                    "Helyezes": "10"
                                },
                                {
                                    "SZOBA_ID": "122",
                                    "Férőhely": "3",
                                    "Foglalások száma": "9",
                                    "Helyezes": "11"
                                },
                                {
                                    "SZOBA_ID": "121",
                                    "Férőhely": "2",
                                    "Foglalások száma": "8",
                                    "Helyezes": "12"
                                },
                                {
                                    "SZOBA_ID": "140",
                                    "Férőhely": "2",
                                    "Foglalások száma": "8",
                                    "Helyezes": "13"
                                },
                                {
                                    "SZOBA_ID": "110",
                                    "Férőhely": "2",
                                    "Foglalások száma": "8",
                                    "Helyezes": "14"
                                },
                                {
                                    "SZOBA_ID": "55",
                                    "Férőhely": "2",
                                    "Foglalások száma": "8",
                                    "Helyezes": "15"
                                },
                                {
                                    "SZOBA_ID": "38",
                                    "Férőhely": "2",
                                    "Foglalások száma": "8",
                                    "Helyezes": "16"
                                },
                                {
                                    "SZOBA_ID": "1",
                                    "Férőhely": "3",
                                    "Foglalások száma": "8",
                                    "Helyezes": "17"
                                },
                                {
                                    "SZOBA_ID": "3",
                                    "Férőhely": "3",
                                    "Foglalások száma": "8",
                                    "Helyezes": "18"
                                },
                                {
                                    "SZOBA_ID": "43",
                                    "Férőhely": "3",
                                    "Foglalások száma": "8",
                                    "Helyezes": "19"
                                },
                                {
                                    "SZOBA_ID": "83",
                                    "Férőhely": "3",
                                    "Foglalások száma": "8",
                                    "Helyezes": "20"
                                },
                                {
                                    "SZOBA_ID": "88",
                                    "Férőhely": "3",
                                    "Foglalások száma": "8",
                                    "Helyezes": "21"
                                },
                                {
                                    "SZOBA_ID": "89",
                                    "Férőhely": "3",
                                    "Foglalások száma": "8",
                                    "Helyezes": "22"
                                },
                                {
                                    "SZOBA_ID": "117",
                                    "Férőhely": "3",
                                    "Foglalások száma": "8",
                                    "Helyezes": "23"
                                },
                                {
                                    "SZOBA_ID": "198",
                                    "Férőhely": "3",
                                    "Foglalások száma": "8",
                                    "Helyezes": "24"
                                },
                                {
                                    "SZOBA_ID": "149",
                                    "Férőhely": "2",
                                    "Foglalások száma": "7",
                                    "Helyezes": "25"
                                },
                                {
                                    "SZOBA_ID": "156",
                                    "Férőhely": "2",
                                    "Foglalások száma": "7",
                                    "Helyezes": "26"
                                },
                                {
                                    "SZOBA_ID": "163",
                                    "Férőhely": "2",
                                    "Foglalások száma": "7",
                                    "Helyezes": "27"
                                },
                                {
                                    "SZOBA_ID": "165",
                                    "Férőhely": "2",
                                    "Foglalások száma": "7",
                                    "Helyezes": "28"
                                },
                                {
                                    "SZOBA_ID": "118",
                                    "Férőhely": "2",
                                    "Foglalások száma": "7",
                                    "Helyezes": "29"
                                },
                                {
                                    "SZOBA_ID": "109",
                                    "Férőhely": "2",
                                    "Foglalások száma": "7",
                                    "Helyezes": "30"
                                },
                                {
                                    "SZOBA_ID": "127",
                                    "Férőhely": "2",
                                    "Foglalások száma": "7",
                                    "Helyezes": "31"
                                },
                                {
                                    "SZOBA_ID": "139",
                                    "Férőhely": "2",
                                    "Foglalások száma": "7",
                                    "Helyezes": "32"
                                },
                                {
                                    "SZOBA_ID": "80",
                                    "Férőhely": "2",
                                    "Foglalások száma": "7",
                                    "Helyezes": "33"
                                },
                                {
                                    "SZOBA_ID": "59",
                                    "Férőhely": "2",
                                    "Foglalások száma": "7",
                                    "Helyezes": "34"
                                },
                                {
                                    "SZOBA_ID": "39",
                                    "Férőhely": "2",
                                    "Foglalások száma": "7",
                                    "Helyezes": "35"
                                },
                                {
                                    "SZOBA_ID": "27",
                                    "Férőhely": "3",
                                    "Foglalások száma": "7",
                                    "Helyezes": "36"
                                },
                                {
                                    "SZOBA_ID": "49",
                                    "Férőhely": "3",
                                    "Foglalások száma": "7",
                                    "Helyezes": "37"
                                },
                                {
                                    "SZOBA_ID": "96",
                                    "Férőhely": "3",
                                    "Foglalások száma": "7",
                                    "Helyezes": "38"
                                },
                                {
                                    "SZOBA_ID": "97",
                                    "Férőhely": "3",
                                    "Foglalások száma": "7",
                                    "Helyezes": "39"
                                },
                                {
                                    "SZOBA_ID": "138",
                                    "Férőhely": "3",
                                    "Foglalások száma": "7",
                                    "Helyezes": "40"
                                },
                                {
                                    "SZOBA_ID": "143",
                                    "Férőhely": "3",
                                    "Foglalások száma": "7",
                                    "Helyezes": "41"
                                },
                                {
                                    "SZOBA_ID": "115",
                                    "Férőhely": "3",
                                    "Foglalások száma": "7",
                                    "Helyezes": "42"
                                },
                                {
                                    "SZOBA_ID": "187",
                                    "Férőhely": "3",
                                    "Foglalások száma": "7",
                                    "Helyezes": "43"
                                },
                                {
                                    "SZOBA_ID": "193",
                                    "Férőhely": "3",
                                    "Foglalások száma": "7",
                                    "Helyezes": "44"
                                },
                                {
                                    "SZOBA_ID": "195",
                                    "Férőhely": "2",
                                    "Foglalások száma": "6",
                                    "Helyezes": "45"
                                },
                                {
                                    "SZOBA_ID": "161",
                                    "Férőhely": "2",
                                    "Foglalások száma": "6",
                                    "Helyezes": "46"
                                },
                                {
                                    "SZOBA_ID": "150",
                                    "Férőhely": "2",
                                    "Foglalások száma": "6",
                                    "Helyezes": "47"
                                },
                                {
                                    "SZOBA_ID": "148",
                                    "Férőhely": "2",
                                    "Foglalások száma": "6",
                                    "Helyezes": "48"
                                },
                                {
                                    "SZOBA_ID": "169",
                                    "Férőhely": "2",
                                    "Foglalások száma": "6",
                                    "Helyezes": "49"
                                },
                                {
                                    "SZOBA_ID": "106",
                                    "Férőhely": "2",
                                    "Foglalások száma": "6",
                                    "Helyezes": "50"
                                },
                                {
                                    "SZOBA_ID": "126",
                                    "Férőhely": "2",
                                    "Foglalások száma": "6",
                                    "Helyezes": "51"
                                },
                                {
                                    "SZOBA_ID": "145",
                                    "Férőhely": "2",
                                    "Foglalások száma": "6",
                                    "Helyezes": "52"
                                },
                                {
                                    "SZOBA_ID": "141",
                                    "Férőhely": "2",
                                    "Foglalások száma": "6",
                                    "Helyezes": "53"
                                },
                                {
                                    "SZOBA_ID": "130",
                                    "Férőhely": "2",
                                    "Foglalások száma": "6",
                                    "Helyezes": "54"
                                },
                                {
                                    "SZOBA_ID": "137",
                                    "Férőhely": "2",
                                    "Foglalások száma": "6",
                                    "Helyezes": "55"
                                },
                                {
                                    "SZOBA_ID": "78",
                                    "Férőhely": "2",
                                    "Foglalások száma": "6",
                                    "Helyezes": "56"
                                },
                                {
                                    "SZOBA_ID": "42",
                                    "Férőhely": "2",
                                    "Foglalások száma": "6",
                                    "Helyezes": "57"
                                },
                                {
                                    "SZOBA_ID": "64",
                                    "Férőhely": "2",
                                    "Foglalások száma": "6",
                                    "Helyezes": "58"
                                },
                                {
                                    "SZOBA_ID": "67",
                                    "Férőhely": "2",
                                    "Foglalások száma": "6",
                                    "Helyezes": "59"
                                },
                                {
                                    "SZOBA_ID": "28",
                                    "Férőhely": "2",
                                    "Foglalások száma": "6",
                                    "Helyezes": "60"
                                },
                                {
                                    "SZOBA_ID": "29",
                                    "Férőhely": "2",
                                    "Foglalások száma": "6",
                                    "Helyezes": "61"
                                },
                                {
                                    "SZOBA_ID": "19",
                                    "Férőhely": "2",
                                    "Foglalások száma": "6",
                                    "Helyezes": "62"
                                },
                                {
                                    "SZOBA_ID": "33",
                                    "Férőhely": "2",
                                    "Foglalások száma": "6",
                                    "Helyezes": "63"
                                },
                                {
                                    "SZOBA_ID": "4",
                                    "Férőhely": "2",
                                    "Foglalások száma": "6",
                                    "Helyezes": "64"
                                },
                                {
                                    "SZOBA_ID": "7",
                                    "Férőhely": "2",
                                    "Foglalások száma": "6",
                                    "Helyezes": "65"
                                },
                                {
                                    "SZOBA_ID": "15",
                                    "Férőhely": "2",
                                    "Foglalások száma": "6",
                                    "Helyezes": "66"
                                },
                                {
                                    "SZOBA_ID": "17",
                                    "Férőhely": "3",
                                    "Foglalások száma": "6",
                                    "Helyezes": "67"
                                },
                                {
                                    "SZOBA_ID": "18",
                                    "Férőhely": "3",
                                    "Foglalások száma": "6",
                                    "Helyezes": "68"
                                },
                                {
                                    "SZOBA_ID": "6",
                                    "Férőhely": "3",
                                    "Foglalások száma": "6",
                                    "Helyezes": "69"
                                },
                                {
                                    "SZOBA_ID": "9",
                                    "Férőhely": "3",
                                    "Foglalások száma": "6",
                                    "Helyezes": "70"
                                },
                                {
                                    "SZOBA_ID": "22",
                                    "Férőhely": "3",
                                    "Foglalások száma": "6",
                                    "Helyezes": "71"
                                },
                                {
                                    "SZOBA_ID": "36",
                                    "Férőhely": "3",
                                    "Foglalások száma": "6",
                                    "Helyezes": "72"
                                },
                                {
                                    "SZOBA_ID": "44",
                                    "Férőhely": "3",
                                    "Foglalások száma": "6",
                                    "Helyezes": "73"
                                },
                                {
                                    "SZOBA_ID": "54",
                                    "Férőhely": "3",
                                    "Foglalások száma": "6",
                                    "Helyezes": "74"
                                },
                                {
                                    "SZOBA_ID": "77",
                                    "Férőhely": "3",
                                    "Foglalások száma": "6",
                                    "Helyezes": "75"
                                },
                                {
                                    "SZOBA_ID": "82",
                                    "Férőhely": "3",
                                    "Foglalások száma": "6",
                                    "Helyezes": "76"
                                },
                                {
                                    "SZOBA_ID": "92",
                                    "Férőhely": "3",
                                    "Foglalások száma": "6",
                                    "Helyezes": "77"
                                },
                                {
                                    "SZOBA_ID": "132",
                                    "Férőhely": "3",
                                    "Foglalások száma": "6",
                                    "Helyezes": "78"
                                },
                                {
                                    "SZOBA_ID": "133",
                                    "Férőhely": "3",
                                    "Foglalások száma": "6",
                                    "Helyezes": "79"
                                },
                                {
                                    "SZOBA_ID": "134",
                                    "Férőhely": "3",
                                    "Foglalások száma": "6",
                                    "Helyezes": "80"
                                },
                                {
                                    "SZOBA_ID": "146",
                                    "Férőhely": "3",
                                    "Foglalások száma": "6",
                                    "Helyezes": "81"
                                },
                                {
                                    "SZOBA_ID": "124",
                                    "Férőhely": "3",
                                    "Foglalások száma": "6",
                                    "Helyezes": "82"
                                },
                                {
                                    "SZOBA_ID": "120",
                                    "Férőhely": "3",
                                    "Foglalások száma": "6",
                                    "Helyezes": "83"
                                },
                                {
                                    "SZOBA_ID": "176",
                                    "Férőhely": "3",
                                    "Foglalások száma": "6",
                                    "Helyezes": "84"
                                },
                                {
                                    "SZOBA_ID": "181",
                                    "Férőhely": "3",
                                    "Foglalások száma": "6",
                                    "Helyezes": "85"
                                },
                                {
                                    "SZOBA_ID": "188",
                                    "Férőhely": "3",
                                    "Foglalások száma": "6",
                                    "Helyezes": "86"
                                },
                                {
                                    "SZOBA_ID": "197",
                                    "Férőhely": "3",
                                    "Foglalások száma": "6",
                                    "Helyezes": "87"
                                },
                                {
                                    "SZOBA_ID": "189",
                                    "Férőhely": "2",
                                    "Foglalások száma": "5",
                                    "Helyezes": "88"
                                },
                                {
                                    "SZOBA_ID": "190",
                                    "Férőhely": "2",
                                    "Foglalások száma": "5",
                                    "Helyezes": "89"
                                },
                                {
                                    "SZOBA_ID": "191",
                                    "Férőhely": "2",
                                    "Foglalások száma": "5",
                                    "Helyezes": "90"
                                },
                                {
                                    "SZOBA_ID": "168",
                                    "Férőhely": "2",
                                    "Foglalások száma": "5",
                                    "Helyezes": "91"
                                },
                                {
                                    "SZOBA_ID": "175",
                                    "Férőhely": "2",
                                    "Foglalások száma": "5",
                                    "Helyezes": "92"
                                },
                                {
                                    "SZOBA_ID": "170",
                                    "Férőhely": "2",
                                    "Foglalások száma": "5",
                                    "Helyezes": "93"
                                },
                                {
                                    "SZOBA_ID": "171",
                                    "Férőhely": "2",
                                    "Foglalások száma": "5",
                                    "Helyezes": "94"
                                },
                                {
                                    "SZOBA_ID": "157",
                                    "Férőhely": "2",
                                    "Foglalások száma": "5",
                                    "Helyezes": "95"
                                },
                                {
                                    "SZOBA_ID": "154",
                                    "Férőhely": "2",
                                    "Foglalások száma": "5",
                                    "Helyezes": "96"
                                },
                                {
                                    "SZOBA_ID": "164",
                                    "Férőhely": "2",
                                    "Foglalások száma": "5",
                                    "Helyezes": "97"
                                },
                                {
                                    "SZOBA_ID": "119",
                                    "Férőhely": "2",
                                    "Foglalások száma": "5",
                                    "Helyezes": "98"
                                },
                                {
                                    "SZOBA_ID": "107",
                                    "Férőhely": "2",
                                    "Foglalások száma": "5",
                                    "Helyezes": "99"
                                },
                                {
                                    "SZOBA_ID": "128",
                                    "Férőhely": "2",
                                    "Foglalások száma": "5",
                                    "Helyezes": "100"
                                },
                                {
                                    "SZOBA_ID": "131",
                                    "Férőhely": "2",
                                    "Foglalások száma": "5",
                                    "Helyezes": "101"
                                },
                                {
                                    "SZOBA_ID": "99",
                                    "Férőhely": "2",
                                    "Foglalások száma": "5",
                                    "Helyezes": "102"
                                },
                                {
                                    "SZOBA_ID": "111",
                                    "Férőhely": "2",
                                    "Foglalások száma": "5",
                                    "Helyezes": "103"
                                },
                                {
                                    "SZOBA_ID": "81",
                                    "Férőhely": "2",
                                    "Foglalások száma": "5",
                                    "Helyezes": "104"
                                },
                                {
                                    "SZOBA_ID": "86",
                                    "Férőhely": "2",
                                    "Foglalások száma": "5",
                                    "Helyezes": "105"
                                },
                                {
                                    "SZOBA_ID": "52",
                                    "Férőhely": "2",
                                    "Foglalások száma": "5",
                                    "Helyezes": "106"
                                },
                                {
                                    "SZOBA_ID": "45",
                                    "Férőhely": "2",
                                    "Foglalások száma": "5",
                                    "Helyezes": "107"
                                },
                                {
                                    "SZOBA_ID": "62",
                                    "Férőhely": "2",
                                    "Foglalások száma": "5",
                                    "Helyezes": "108"
                                },
                                {
                                    "SZOBA_ID": "61",
                                    "Férőhely": "3",
                                    "Foglalások száma": "5",
                                    "Helyezes": "109"
                                },
                                {
                                    "SZOBA_ID": "51",
                                    "Férőhely": "3",
                                    "Foglalások száma": "5",
                                    "Helyezes": "110"
                                },
                                {
                                    "SZOBA_ID": "20",
                                    "Férőhely": "3",
                                    "Foglalások száma": "5",
                                    "Helyezes": "111"
                                },
                                {
                                    "SZOBA_ID": "8",
                                    "Férőhely": "3",
                                    "Foglalások száma": "5",
                                    "Helyezes": "112"
                                },
                                {
                                    "SZOBA_ID": "16",
                                    "Férőhely": "3",
                                    "Foglalások száma": "5",
                                    "Helyezes": "113"
                                },
                                {
                                    "SZOBA_ID": "87",
                                    "Férőhely": "3",
                                    "Foglalások száma": "5",
                                    "Helyezes": "114"
                                },
                                {
                                    "SZOBA_ID": "79",
                                    "Férőhely": "3",
                                    "Foglalások száma": "5",
                                    "Helyezes": "115"
                                },
                                {
                                    "SZOBA_ID": "112",
                                    "Férőhely": "3",
                                    "Foglalások száma": "5",
                                    "Helyezes": "116"
                                },
                                {
                                    "SZOBA_ID": "113",
                                    "Férőhely": "3",
                                    "Foglalások száma": "5",
                                    "Helyezes": "117"
                                },
                                {
                                    "SZOBA_ID": "93",
                                    "Férőhely": "3",
                                    "Foglalások száma": "5",
                                    "Helyezes": "118"
                                },
                                {
                                    "SZOBA_ID": "144",
                                    "Férőhely": "3",
                                    "Foglalások száma": "5",
                                    "Helyezes": "119"
                                },
                                {
                                    "SZOBA_ID": "123",
                                    "Férőhely": "3",
                                    "Foglalások száma": "5",
                                    "Helyezes": "120"
                                },
                                {
                                    "SZOBA_ID": "153",
                                    "Férőhely": "3",
                                    "Foglalások száma": "5",
                                    "Helyezes": "121"
                                },
                                {
                                    "SZOBA_ID": "160",
                                    "Férőhely": "3",
                                    "Foglalások száma": "5",
                                    "Helyezes": "122"
                                },
                                {
                                    "SZOBA_ID": "155",
                                    "Férőhely": "3",
                                    "Foglalások száma": "5",
                                    "Helyezes": "123"
                                },
                                {
                                    "SZOBA_ID": "152",
                                    "Férőhely": "2",
                                    "Foglalások száma": "4",
                                    "Helyezes": "124"
                                },
                                {
                                    "SZOBA_ID": "173",
                                    "Férőhely": "2",
                                    "Foglalások száma": "4",
                                    "Helyezes": "125"
                                },
                                {
                                    "SZOBA_ID": "174",
                                    "Férőhely": "2",
                                    "Foglalások száma": "4",
                                    "Helyezes": "126"
                                },
                                {
                                    "SZOBA_ID": "186",
                                    "Férőhely": "2",
                                    "Foglalások száma": "4",
                                    "Helyezes": "127"
                                },
                                {
                                    "SZOBA_ID": "196",
                                    "Férőhely": "2",
                                    "Foglalások száma": "4",
                                    "Helyezes": "128"
                                },
                                {
                                    "SZOBA_ID": "184",
                                    "Férőhely": "2",
                                    "Foglalások száma": "4",
                                    "Helyezes": "129"
                                },
                                {
                                    "SZOBA_ID": "129",
                                    "Férőhely": "2",
                                    "Foglalások száma": "4",
                                    "Helyezes": "130"
                                },
                                {
                                    "SZOBA_ID": "100",
                                    "Férőhely": "2",
                                    "Foglalások száma": "4",
                                    "Helyezes": "131"
                                },
                                {
                                    "SZOBA_ID": "114",
                                    "Férőhely": "2",
                                    "Foglalások száma": "4",
                                    "Helyezes": "132"
                                },
                                {
                                    "SZOBA_ID": "98",
                                    "Férőhely": "2",
                                    "Foglalások száma": "4",
                                    "Helyezes": "133"
                                },
                                {
                                    "SZOBA_ID": "103",
                                    "Férőhely": "2",
                                    "Foglalások száma": "4",
                                    "Helyezes": "134"
                                },
                                {
                                    "SZOBA_ID": "85",
                                    "Férőhely": "2",
                                    "Foglalások száma": "4",
                                    "Helyezes": "135"
                                },
                                {
                                    "SZOBA_ID": "91",
                                    "Férőhely": "2",
                                    "Foglalások száma": "4",
                                    "Helyezes": "136"
                                },
                                {
                                    "SZOBA_ID": "11",
                                    "Férőhely": "2",
                                    "Foglalások száma": "4",
                                    "Helyezes": "137"
                                },
                                {
                                    "SZOBA_ID": "5",
                                    "Férőhely": "2",
                                    "Foglalások száma": "4",
                                    "Helyezes": "138"
                                },
                                {
                                    "SZOBA_ID": "21",
                                    "Férőhely": "2",
                                    "Foglalások száma": "4",
                                    "Helyezes": "139"
                                },
                                {
                                    "SZOBA_ID": "50",
                                    "Férőhely": "2",
                                    "Foglalások száma": "4",
                                    "Helyezes": "140"
                                },
                                {
                                    "SZOBA_ID": "57",
                                    "Férőhely": "2",
                                    "Foglalások száma": "4",
                                    "Helyezes": "141"
                                },
                                {
                                    "SZOBA_ID": "63",
                                    "Férőhely": "2",
                                    "Foglalások száma": "4",
                                    "Helyezes": "142"
                                },
                                {
                                    "SZOBA_ID": "72",
                                    "Férőhely": "2",
                                    "Foglalások száma": "4",
                                    "Helyezes": "143"
                                },
                                {
                                    "SZOBA_ID": "73",
                                    "Férőhely": "2",
                                    "Foglalások száma": "4",
                                    "Helyezes": "144"
                                },
                                {
                                    "SZOBA_ID": "66",
                                    "Férőhely": "3",
                                    "Foglalások száma": "4",
                                    "Helyezes": "145"
                                },
                                {
                                    "SZOBA_ID": "69",
                                    "Férőhely": "3",
                                    "Foglalások száma": "4",
                                    "Helyezes": "146"
                                },
                                {
                                    "SZOBA_ID": "46",
                                    "Férőhely": "3",
                                    "Foglalások száma": "4",
                                    "Helyezes": "147"
                                },
                                {
                                    "SZOBA_ID": "34",
                                    "Férőhely": "3",
                                    "Foglalások száma": "4",
                                    "Helyezes": "148"
                                },
                                {
                                    "SZOBA_ID": "40",
                                    "Férőhely": "3",
                                    "Foglalások száma": "4",
                                    "Helyezes": "149"
                                },
                                {
                                    "SZOBA_ID": "2",
                                    "Férőhely": "3",
                                    "Foglalások száma": "4",
                                    "Helyezes": "150"
                                },
                                {
                                    "SZOBA_ID": "10",
                                    "Férőhely": "3",
                                    "Foglalások száma": "4",
                                    "Helyezes": "151"
                                },
                                {
                                    "SZOBA_ID": "13",
                                    "Férőhely": "3",
                                    "Foglalások száma": "4",
                                    "Helyezes": "152"
                                },
                                {
                                    "SZOBA_ID": "90",
                                    "Férőhely": "3",
                                    "Foglalások száma": "4",
                                    "Helyezes": "153"
                                },
                                {
                                    "SZOBA_ID": "84",
                                    "Férőhely": "3",
                                    "Foglalások száma": "4",
                                    "Helyezes": "154"
                                },
                                {
                                    "SZOBA_ID": "104",
                                    "Férőhely": "3",
                                    "Foglalások száma": "4",
                                    "Helyezes": "155"
                                },
                                {
                                    "SZOBA_ID": "95",
                                    "Férőhely": "3",
                                    "Foglalások száma": "4",
                                    "Helyezes": "156"
                                },
                                {
                                    "SZOBA_ID": "183",
                                    "Férőhely": "3",
                                    "Foglalások száma": "4",
                                    "Helyezes": "157"
                                },
                                {
                                    "SZOBA_ID": "177",
                                    "Férőhely": "3",
                                    "Foglalások száma": "4",
                                    "Helyezes": "158"
                                },
                                {
                                    "SZOBA_ID": "178",
                                    "Férőhely": "3",
                                    "Foglalások száma": "4",
                                    "Helyezes": "159"
                                },
                                {
                                    "SZOBA_ID": "180",
                                    "Férőhely": "2",
                                    "Foglalások száma": "3",
                                    "Helyezes": "160"
                                },
                                {
                                    "SZOBA_ID": "151",
                                    "Férőhely": "2",
                                    "Foglalások száma": "3",
                                    "Helyezes": "161"
                                },
                                {
                                    "SZOBA_ID": "158",
                                    "Férőhely": "2",
                                    "Foglalások száma": "3",
                                    "Helyezes": "162"
                                },
                                {
                                    "SZOBA_ID": "166",
                                    "Férőhely": "2",
                                    "Foglalások száma": "3",
                                    "Helyezes": "163"
                                },
                                {
                                    "SZOBA_ID": "101",
                                    "Férőhely": "2",
                                    "Foglalások száma": "3",
                                    "Helyezes": "164"
                                },
                                {
                                    "SZOBA_ID": "75",
                                    "Férőhely": "2",
                                    "Foglalások száma": "3",
                                    "Helyezes": "165"
                                },
                                {
                                    "SZOBA_ID": "76",
                                    "Férőhely": "2",
                                    "Foglalások száma": "3",
                                    "Helyezes": "166"
                                },
                                {
                                    "SZOBA_ID": "136",
                                    "Férőhely": "2",
                                    "Foglalások száma": "3",
                                    "Helyezes": "167"
                                },
                                {
                                    "SZOBA_ID": "23",
                                    "Férőhely": "2",
                                    "Foglalások száma": "3",
                                    "Helyezes": "168"
                                },
                                {
                                    "SZOBA_ID": "37",
                                    "Férőhely": "2",
                                    "Foglalások száma": "3",
                                    "Helyezes": "169"
                                },
                                {
                                    "SZOBA_ID": "68",
                                    "Férőhely": "2",
                                    "Foglalások száma": "3",
                                    "Helyezes": "170"
                                },
                                {
                                    "SZOBA_ID": "71",
                                    "Férőhely": "3",
                                    "Foglalások száma": "3",
                                    "Helyezes": "171"
                                },
                                {
                                    "SZOBA_ID": "30",
                                    "Férőhely": "3",
                                    "Foglalások száma": "3",
                                    "Helyezes": "172"
                                },
                                {
                                    "SZOBA_ID": "31",
                                    "Férőhely": "3",
                                    "Foglalások száma": "3",
                                    "Helyezes": "173"
                                },
                                {
                                    "SZOBA_ID": "14",
                                    "Férőhely": "3",
                                    "Foglalások száma": "3",
                                    "Helyezes": "174"
                                },
                                {
                                    "SZOBA_ID": "135",
                                    "Férőhely": "3",
                                    "Foglalások száma": "3",
                                    "Helyezes": "175"
                                },
                                {
                                    "SZOBA_ID": "162",
                                    "Férőhely": "3",
                                    "Foglalások száma": "3",
                                    "Helyezes": "176"
                                },
                                {
                                    "SZOBA_ID": "179",
                                    "Férőhely": "3",
                                    "Foglalások száma": "3",
                                    "Helyezes": "177"
                                },
                                {
                                    "SZOBA_ID": "24",
                                    "Férőhely": "4",
                                    "Foglalások száma": "3",
                                    "Helyezes": "178"
                                },
                                {
                                    "SZOBA_ID": "26",
                                    "Férőhely": "2",
                                    "Foglalások száma": "2",
                                    "Helyezes": "179"
                                },
                                {
                                    "SZOBA_ID": "47",
                                    "Férőhely": "2",
                                    "Foglalások száma": "2",
                                    "Helyezes": "180"
                                },
                                {
                                    "SZOBA_ID": "53",
                                    "Férőhely": "2",
                                    "Foglalások száma": "2",
                                    "Helyezes": "181"
                                },
                                {
                                    "SZOBA_ID": "56",
                                    "Férőhely": "2",
                                    "Foglalások száma": "2",
                                    "Helyezes": "182"
                                },
                                {
                                    "SZOBA_ID": "108",
                                    "Férőhely": "2",
                                    "Foglalások száma": "2",
                                    "Helyezes": "183"
                                },
                                {
                                    "SZOBA_ID": "102",
                                    "Férőhely": "2",
                                    "Foglalások száma": "2",
                                    "Helyezes": "184"
                                },
                                {
                                    "SZOBA_ID": "105",
                                    "Férőhely": "2",
                                    "Foglalások száma": "2",
                                    "Helyezes": "185"
                                },
                                {
                                    "SZOBA_ID": "192",
                                    "Férőhely": "2",
                                    "Foglalások száma": "2",
                                    "Helyezes": "186"
                                },
                                {
                                    "SZOBA_ID": "167",
                                    "Férőhely": "3",
                                    "Foglalások száma": "2",
                                    "Helyezes": "187"
                                },
                                {
                                    "SZOBA_ID": "116",
                                    "Férőhely": "3",
                                    "Foglalások száma": "2",
                                    "Helyezes": "188"
                                },
                                {
                                    "SZOBA_ID": "142",
                                    "Férőhely": "3",
                                    "Foglalások száma": "2",
                                    "Helyezes": "189"
                                },
                                {
                                    "SZOBA_ID": "25",
                                    "Férőhely": "3",
                                    "Foglalások száma": "2",
                                    "Helyezes": "190"
                                },
                                {
                                    "SZOBA_ID": "41",
                                    "Férőhely": "3",
                                    "Foglalások száma": "2",
                                    "Helyezes": "191"
                                },
                                {
                                    "SZOBA_ID": "32",
                                    "Férőhely": "2",
                                    "Foglalások száma": "1",
                                    "Helyezes": "192"
                                },
                                {
                                    "SZOBA_ID": "65",
                                    "Férőhely": "2",
                                    "Foglalások száma": "1",
                                    "Helyezes": "193"
                                },
                                {
                                    "SZOBA_ID": "147",
                                    "Férőhely": "2",
                                    "Foglalások száma": "1",
                                    "Helyezes": "194"
                                },
                                {
                                    "SZOBA_ID": "125",
                                    "Férőhely": "2",
                                    "Foglalások száma": "1",
                                    "Helyezes": "195"
                                },
                                {
                                    "SZOBA_ID": "194",
                                    "Férőhely": "2",
                                    "Foglalások száma": "1",
                                    "Helyezes": "196"
                                },
                                {
                                    "SZOBA_ID": "60",
                                    "Férőhely": "3",
                                    "Foglalások száma": "1",
                                    "Helyezes": "197"
                                }
                            ]
                        },
                        "text/html": [
                            "<table>",
                            "<tr><th>SZOBA_ID</th><th>Férőhely</th><th>Foglalások száma</th><th>Helyezes</th></tr>",
                            "<tr><td>58</td><td>2</td><td>13</td><td>1</td></tr>",
                            "<tr><td>182</td><td>2</td><td>12</td><td>2</td></tr>",
                            "<tr><td>185</td><td>3</td><td>12</td><td>3</td></tr>",
                            "<tr><td>70</td><td>2</td><td>11</td><td>4</td></tr>",
                            "<tr><td>94</td><td>2</td><td>10</td><td>5</td></tr>",
                            "<tr><td>12</td><td>2</td><td>9</td><td>6</td></tr>",
                            "<tr><td>172</td><td>2</td><td>9</td><td>7</td></tr>",
                            "<tr><td>35</td><td>3</td><td>9</td><td>8</td></tr>",
                            "<tr><td>48</td><td>3</td><td>9</td><td>9</td></tr>",
                            "<tr><td>74</td><td>3</td><td>9</td><td>10</td></tr>",
                            "<tr><td>122</td><td>3</td><td>9</td><td>11</td></tr>",
                            "<tr><td>121</td><td>2</td><td>8</td><td>12</td></tr>",
                            "<tr><td>140</td><td>2</td><td>8</td><td>13</td></tr>",
                            "<tr><td>110</td><td>2</td><td>8</td><td>14</td></tr>",
                            "<tr><td>55</td><td>2</td><td>8</td><td>15</td></tr>",
                            "<tr><td>38</td><td>2</td><td>8</td><td>16</td></tr>",
                            "<tr><td>1</td><td>3</td><td>8</td><td>17</td></tr>",
                            "<tr><td>3</td><td>3</td><td>8</td><td>18</td></tr>",
                            "<tr><td>43</td><td>3</td><td>8</td><td>19</td></tr>",
                            "<tr><td>83</td><td>3</td><td>8</td><td>20</td></tr>",
                            "<tr><td>88</td><td>3</td><td>8</td><td>21</td></tr>",
                            "<tr><td>89</td><td>3</td><td>8</td><td>22</td></tr>",
                            "<tr><td>117</td><td>3</td><td>8</td><td>23</td></tr>",
                            "<tr><td>198</td><td>3</td><td>8</td><td>24</td></tr>",
                            "<tr><td>149</td><td>2</td><td>7</td><td>25</td></tr>",
                            "<tr><td>156</td><td>2</td><td>7</td><td>26</td></tr>",
                            "<tr><td>163</td><td>2</td><td>7</td><td>27</td></tr>",
                            "<tr><td>165</td><td>2</td><td>7</td><td>28</td></tr>",
                            "<tr><td>118</td><td>2</td><td>7</td><td>29</td></tr>",
                            "<tr><td>109</td><td>2</td><td>7</td><td>30</td></tr>",
                            "<tr><td>127</td><td>2</td><td>7</td><td>31</td></tr>",
                            "<tr><td>139</td><td>2</td><td>7</td><td>32</td></tr>",
                            "<tr><td>80</td><td>2</td><td>7</td><td>33</td></tr>",
                            "<tr><td>59</td><td>2</td><td>7</td><td>34</td></tr>",
                            "<tr><td>39</td><td>2</td><td>7</td><td>35</td></tr>",
                            "<tr><td>27</td><td>3</td><td>7</td><td>36</td></tr>",
                            "<tr><td>49</td><td>3</td><td>7</td><td>37</td></tr>",
                            "<tr><td>96</td><td>3</td><td>7</td><td>38</td></tr>",
                            "<tr><td>97</td><td>3</td><td>7</td><td>39</td></tr>",
                            "<tr><td>138</td><td>3</td><td>7</td><td>40</td></tr>",
                            "<tr><td>143</td><td>3</td><td>7</td><td>41</td></tr>",
                            "<tr><td>115</td><td>3</td><td>7</td><td>42</td></tr>",
                            "<tr><td>187</td><td>3</td><td>7</td><td>43</td></tr>",
                            "<tr><td>193</td><td>3</td><td>7</td><td>44</td></tr>",
                            "<tr><td>195</td><td>2</td><td>6</td><td>45</td></tr>",
                            "<tr><td>161</td><td>2</td><td>6</td><td>46</td></tr>",
                            "<tr><td>150</td><td>2</td><td>6</td><td>47</td></tr>",
                            "<tr><td>148</td><td>2</td><td>6</td><td>48</td></tr>",
                            "<tr><td>169</td><td>2</td><td>6</td><td>49</td></tr>",
                            "<tr><td>106</td><td>2</td><td>6</td><td>50</td></tr>",
                            "<tr><td>126</td><td>2</td><td>6</td><td>51</td></tr>",
                            "<tr><td>145</td><td>2</td><td>6</td><td>52</td></tr>",
                            "<tr><td>141</td><td>2</td><td>6</td><td>53</td></tr>",
                            "<tr><td>130</td><td>2</td><td>6</td><td>54</td></tr>",
                            "<tr><td>137</td><td>2</td><td>6</td><td>55</td></tr>",
                            "<tr><td>78</td><td>2</td><td>6</td><td>56</td></tr>",
                            "<tr><td>42</td><td>2</td><td>6</td><td>57</td></tr>",
                            "<tr><td>64</td><td>2</td><td>6</td><td>58</td></tr>",
                            "<tr><td>67</td><td>2</td><td>6</td><td>59</td></tr>",
                            "<tr><td>28</td><td>2</td><td>6</td><td>60</td></tr>",
                            "<tr><td>29</td><td>2</td><td>6</td><td>61</td></tr>",
                            "<tr><td>19</td><td>2</td><td>6</td><td>62</td></tr>",
                            "<tr><td>33</td><td>2</td><td>6</td><td>63</td></tr>",
                            "<tr><td>4</td><td>2</td><td>6</td><td>64</td></tr>",
                            "<tr><td>7</td><td>2</td><td>6</td><td>65</td></tr>",
                            "<tr><td>15</td><td>2</td><td>6</td><td>66</td></tr>",
                            "<tr><td>17</td><td>3</td><td>6</td><td>67</td></tr>",
                            "<tr><td>18</td><td>3</td><td>6</td><td>68</td></tr>",
                            "<tr><td>6</td><td>3</td><td>6</td><td>69</td></tr>",
                            "<tr><td>9</td><td>3</td><td>6</td><td>70</td></tr>",
                            "<tr><td>22</td><td>3</td><td>6</td><td>71</td></tr>",
                            "<tr><td>36</td><td>3</td><td>6</td><td>72</td></tr>",
                            "<tr><td>44</td><td>3</td><td>6</td><td>73</td></tr>",
                            "<tr><td>54</td><td>3</td><td>6</td><td>74</td></tr>",
                            "<tr><td>77</td><td>3</td><td>6</td><td>75</td></tr>",
                            "<tr><td>82</td><td>3</td><td>6</td><td>76</td></tr>",
                            "<tr><td>92</td><td>3</td><td>6</td><td>77</td></tr>",
                            "<tr><td>132</td><td>3</td><td>6</td><td>78</td></tr>",
                            "<tr><td>133</td><td>3</td><td>6</td><td>79</td></tr>",
                            "<tr><td>134</td><td>3</td><td>6</td><td>80</td></tr>",
                            "<tr><td>146</td><td>3</td><td>6</td><td>81</td></tr>",
                            "<tr><td>124</td><td>3</td><td>6</td><td>82</td></tr>",
                            "<tr><td>120</td><td>3</td><td>6</td><td>83</td></tr>",
                            "<tr><td>176</td><td>3</td><td>6</td><td>84</td></tr>",
                            "<tr><td>181</td><td>3</td><td>6</td><td>85</td></tr>",
                            "<tr><td>188</td><td>3</td><td>6</td><td>86</td></tr>",
                            "<tr><td>197</td><td>3</td><td>6</td><td>87</td></tr>",
                            "<tr><td>189</td><td>2</td><td>5</td><td>88</td></tr>",
                            "<tr><td>190</td><td>2</td><td>5</td><td>89</td></tr>",
                            "<tr><td>191</td><td>2</td><td>5</td><td>90</td></tr>",
                            "<tr><td>168</td><td>2</td><td>5</td><td>91</td></tr>",
                            "<tr><td>175</td><td>2</td><td>5</td><td>92</td></tr>",
                            "<tr><td>170</td><td>2</td><td>5</td><td>93</td></tr>",
                            "<tr><td>171</td><td>2</td><td>5</td><td>94</td></tr>",
                            "<tr><td>157</td><td>2</td><td>5</td><td>95</td></tr>",
                            "<tr><td>154</td><td>2</td><td>5</td><td>96</td></tr>",
                            "<tr><td>164</td><td>2</td><td>5</td><td>97</td></tr>",
                            "<tr><td>119</td><td>2</td><td>5</td><td>98</td></tr>",
                            "<tr><td>107</td><td>2</td><td>5</td><td>99</td></tr>",
                            "<tr><td>128</td><td>2</td><td>5</td><td>100</td></tr>",
                            "<tr><td>131</td><td>2</td><td>5</td><td>101</td></tr>",
                            "<tr><td>99</td><td>2</td><td>5</td><td>102</td></tr>",
                            "<tr><td>111</td><td>2</td><td>5</td><td>103</td></tr>",
                            "<tr><td>81</td><td>2</td><td>5</td><td>104</td></tr>",
                            "<tr><td>86</td><td>2</td><td>5</td><td>105</td></tr>",
                            "<tr><td>52</td><td>2</td><td>5</td><td>106</td></tr>",
                            "<tr><td>45</td><td>2</td><td>5</td><td>107</td></tr>",
                            "<tr><td>62</td><td>2</td><td>5</td><td>108</td></tr>",
                            "<tr><td>61</td><td>3</td><td>5</td><td>109</td></tr>",
                            "<tr><td>51</td><td>3</td><td>5</td><td>110</td></tr>",
                            "<tr><td>20</td><td>3</td><td>5</td><td>111</td></tr>",
                            "<tr><td>8</td><td>3</td><td>5</td><td>112</td></tr>",
                            "<tr><td>16</td><td>3</td><td>5</td><td>113</td></tr>",
                            "<tr><td>87</td><td>3</td><td>5</td><td>114</td></tr>",
                            "<tr><td>79</td><td>3</td><td>5</td><td>115</td></tr>",
                            "<tr><td>112</td><td>3</td><td>5</td><td>116</td></tr>",
                            "<tr><td>113</td><td>3</td><td>5</td><td>117</td></tr>",
                            "<tr><td>93</td><td>3</td><td>5</td><td>118</td></tr>",
                            "<tr><td>144</td><td>3</td><td>5</td><td>119</td></tr>",
                            "<tr><td>123</td><td>3</td><td>5</td><td>120</td></tr>",
                            "<tr><td>153</td><td>3</td><td>5</td><td>121</td></tr>",
                            "<tr><td>160</td><td>3</td><td>5</td><td>122</td></tr>",
                            "<tr><td>155</td><td>3</td><td>5</td><td>123</td></tr>",
                            "<tr><td>152</td><td>2</td><td>4</td><td>124</td></tr>",
                            "<tr><td>173</td><td>2</td><td>4</td><td>125</td></tr>",
                            "<tr><td>174</td><td>2</td><td>4</td><td>126</td></tr>",
                            "<tr><td>186</td><td>2</td><td>4</td><td>127</td></tr>",
                            "<tr><td>196</td><td>2</td><td>4</td><td>128</td></tr>",
                            "<tr><td>184</td><td>2</td><td>4</td><td>129</td></tr>",
                            "<tr><td>129</td><td>2</td><td>4</td><td>130</td></tr>",
                            "<tr><td>100</td><td>2</td><td>4</td><td>131</td></tr>",
                            "<tr><td>114</td><td>2</td><td>4</td><td>132</td></tr>",
                            "<tr><td>98</td><td>2</td><td>4</td><td>133</td></tr>",
                            "<tr><td>103</td><td>2</td><td>4</td><td>134</td></tr>",
                            "<tr><td>85</td><td>2</td><td>4</td><td>135</td></tr>",
                            "<tr><td>91</td><td>2</td><td>4</td><td>136</td></tr>",
                            "<tr><td>11</td><td>2</td><td>4</td><td>137</td></tr>",
                            "<tr><td>5</td><td>2</td><td>4</td><td>138</td></tr>",
                            "<tr><td>21</td><td>2</td><td>4</td><td>139</td></tr>",
                            "<tr><td>50</td><td>2</td><td>4</td><td>140</td></tr>",
                            "<tr><td>57</td><td>2</td><td>4</td><td>141</td></tr>",
                            "<tr><td>63</td><td>2</td><td>4</td><td>142</td></tr>",
                            "<tr><td>72</td><td>2</td><td>4</td><td>143</td></tr>",
                            "<tr><td>73</td><td>2</td><td>4</td><td>144</td></tr>",
                            "<tr><td>66</td><td>3</td><td>4</td><td>145</td></tr>",
                            "<tr><td>69</td><td>3</td><td>4</td><td>146</td></tr>",
                            "<tr><td>46</td><td>3</td><td>4</td><td>147</td></tr>",
                            "<tr><td>34</td><td>3</td><td>4</td><td>148</td></tr>",
                            "<tr><td>40</td><td>3</td><td>4</td><td>149</td></tr>",
                            "<tr><td>2</td><td>3</td><td>4</td><td>150</td></tr>",
                            "<tr><td>10</td><td>3</td><td>4</td><td>151</td></tr>",
                            "<tr><td>13</td><td>3</td><td>4</td><td>152</td></tr>",
                            "<tr><td>90</td><td>3</td><td>4</td><td>153</td></tr>",
                            "<tr><td>84</td><td>3</td><td>4</td><td>154</td></tr>",
                            "<tr><td>104</td><td>3</td><td>4</td><td>155</td></tr>",
                            "<tr><td>95</td><td>3</td><td>4</td><td>156</td></tr>",
                            "<tr><td>183</td><td>3</td><td>4</td><td>157</td></tr>",
                            "<tr><td>177</td><td>3</td><td>4</td><td>158</td></tr>",
                            "<tr><td>178</td><td>3</td><td>4</td><td>159</td></tr>",
                            "<tr><td>180</td><td>2</td><td>3</td><td>160</td></tr>",
                            "<tr><td>151</td><td>2</td><td>3</td><td>161</td></tr>",
                            "<tr><td>158</td><td>2</td><td>3</td><td>162</td></tr>",
                            "<tr><td>166</td><td>2</td><td>3</td><td>163</td></tr>",
                            "<tr><td>101</td><td>2</td><td>3</td><td>164</td></tr>",
                            "<tr><td>75</td><td>2</td><td>3</td><td>165</td></tr>",
                            "<tr><td>76</td><td>2</td><td>3</td><td>166</td></tr>",
                            "<tr><td>136</td><td>2</td><td>3</td><td>167</td></tr>",
                            "<tr><td>23</td><td>2</td><td>3</td><td>168</td></tr>",
                            "<tr><td>37</td><td>2</td><td>3</td><td>169</td></tr>",
                            "<tr><td>68</td><td>2</td><td>3</td><td>170</td></tr>",
                            "<tr><td>71</td><td>3</td><td>3</td><td>171</td></tr>",
                            "<tr><td>30</td><td>3</td><td>3</td><td>172</td></tr>",
                            "<tr><td>31</td><td>3</td><td>3</td><td>173</td></tr>",
                            "<tr><td>14</td><td>3</td><td>3</td><td>174</td></tr>",
                            "<tr><td>135</td><td>3</td><td>3</td><td>175</td></tr>",
                            "<tr><td>162</td><td>3</td><td>3</td><td>176</td></tr>",
                            "<tr><td>179</td><td>3</td><td>3</td><td>177</td></tr>",
                            "<tr><td>24</td><td>4</td><td>3</td><td>178</td></tr>",
                            "<tr><td>26</td><td>2</td><td>2</td><td>179</td></tr>",
                            "<tr><td>47</td><td>2</td><td>2</td><td>180</td></tr>",
                            "<tr><td>53</td><td>2</td><td>2</td><td>181</td></tr>",
                            "<tr><td>56</td><td>2</td><td>2</td><td>182</td></tr>",
                            "<tr><td>108</td><td>2</td><td>2</td><td>183</td></tr>",
                            "<tr><td>102</td><td>2</td><td>2</td><td>184</td></tr>",
                            "<tr><td>105</td><td>2</td><td>2</td><td>185</td></tr>",
                            "<tr><td>192</td><td>2</td><td>2</td><td>186</td></tr>",
                            "<tr><td>167</td><td>3</td><td>2</td><td>187</td></tr>",
                            "<tr><td>116</td><td>3</td><td>2</td><td>188</td></tr>",
                            "<tr><td>142</td><td>3</td><td>2</td><td>189</td></tr>",
                            "<tr><td>25</td><td>3</td><td>2</td><td>190</td></tr>",
                            "<tr><td>41</td><td>3</td><td>2</td><td>191</td></tr>",
                            "<tr><td>32</td><td>2</td><td>1</td><td>192</td></tr>",
                            "<tr><td>65</td><td>2</td><td>1</td><td>193</td></tr>",
                            "<tr><td>147</td><td>2</td><td>1</td><td>194</td></tr>",
                            "<tr><td>125</td><td>2</td><td>1</td><td>195</td></tr>",
                            "<tr><td>194</td><td>2</td><td>1</td><td>196</td></tr>",
                            "<tr><td>60</td><td>3</td><td>1</td><td>197</td></tr>",
                            "</table>"
                        ]
                    }
                }
            ],
            "execution_count": 12
        }
    ]
}